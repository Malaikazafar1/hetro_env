{
 "cells": [
  {
   "cell_type": "code",
   "execution_count": 48,
   "metadata": {},
   "outputs": [],
   "source": [
    "import pickle\n",
    "with open(\"myobject_3D.pkl\", \"rb\") as file:\n",
    "    set_of_nodes = pickle.load(file)\n"
   ]
  },
  {
   "cell_type": "code",
   "execution_count": 51,
   "metadata": {},
   "outputs": [
    {
     "data": {
      "text/plain": [
       "[(0.5, 0.5, 0.5),\n",
       " (0.5, 1.5, 0.5),\n",
       " (0.5, 2.5, 0.5),\n",
       " (1.5, 2.5, 0.5),\n",
       " (1.5, 1.5, 0.5),\n",
       " (1.5, 0.5, 0.5),\n",
       " (2.5, 0.5, 0.5),\n",
       " (2.5, 1.5, 0.5),\n",
       " (2.5, 2.5, 0.5),\n",
       " (2.5, 2.5, 1.5),\n",
       " (2.5, 1.5, 1.5),\n",
       " (2.5, 0.5, 1.5),\n",
       " (1.5, 0.5, 1.5),\n",
       " (1.5, 1.5, 1.5),\n",
       " (1.5, 2.5, 1.5),\n",
       " (0.5, 2.5, 1.5),\n",
       " (0.5, 1.5, 1.5),\n",
       " (0.5, 0.5, 1.5),\n",
       " (0.5, 0.5, 2.5),\n",
       " (0.5, 1.5, 2.5),\n",
       " (0.5, 2.5, 2.5),\n",
       " (1.5, 2.5, 2.5),\n",
       " (1.5, 1.5, 2.5),\n",
       " (1.5, 0.5, 2.5),\n",
       " (2.5, 0.5, 2.5),\n",
       " (2.5, 1.5, 2.5),\n",
       " (2.5, 2.5, 2.5)]"
      ]
     },
     "execution_count": 51,
     "metadata": {},
     "output_type": "execute_result"
    }
   ],
   "source": [
    "set_of_nodes[2]"
   ]
  },
  {
   "cell_type": "code",
   "execution_count": 40,
   "metadata": {},
   "outputs": [
    {
     "data": {
      "text/plain": [
       "1.73"
      ]
     },
     "execution_count": 40,
     "metadata": {},
     "output_type": "execute_result"
    }
   ],
   "source": [
    "import numpy as np\n",
    "Sum = np.array((1,1,1))\n",
    "round(np.sqrt(np.sum(Sum**2)),2)"
   ]
  },
  {
   "cell_type": "code",
   "execution_count": 41,
   "metadata": {},
   "outputs": [
    {
     "data": {
      "text/plain": [
       "[(1, 0),\n",
       " (2, 1),\n",
       " (3, 2),\n",
       " (4, 3),\n",
       " (5, 4),\n",
       " (6, 5),\n",
       " (7, 6),\n",
       " (8, 7),\n",
       " (9, 8),\n",
       " (10, 9),\n",
       " (11, 10),\n",
       " (12, 11),\n",
       " (13, 12),\n",
       " (14, 13)]"
      ]
     },
     "execution_count": 41,
     "metadata": {},
     "output_type": "execute_result"
    }
   ],
   "source": [
    "list(enumerate([i for i in range(14)],start = 1))"
   ]
  }
 ],
 "metadata": {
  "kernelspec": {
   "display_name": "Python 3",
   "language": "python",
   "name": "python3"
  },
  "language_info": {
   "codemirror_mode": {
    "name": "ipython",
    "version": 3
   },
   "file_extension": ".py",
   "mimetype": "text/x-python",
   "name": "python",
   "nbconvert_exporter": "python",
   "pygments_lexer": "ipython3",
   "version": "3.11.3"
  }
 },
 "nbformat": 4,
 "nbformat_minor": 2
}
