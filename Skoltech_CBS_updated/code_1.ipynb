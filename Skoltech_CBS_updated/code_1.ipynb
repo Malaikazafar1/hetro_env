{
 "cells": [
  {
   "cell_type": "code",
   "execution_count": 10,
   "metadata": {},
   "outputs": [],
   "source": [
    "import copy"
   ]
  },
  {
   "cell_type": "code",
   "execution_count": 8,
   "metadata": {},
   "outputs": [],
   "source": [
    "import pickle\n",
    "with open(\"myobject_2.pkl\", \"rb\") as file:\n",
    "    set_of_nodes = pickle.load(file)\n"
   ]
  },
  {
   "cell_type": "code",
   "execution_count": 24,
   "metadata": {},
   "outputs": [
    {
     "data": {
      "text/plain": [
       "(2.0, 10.03)"
      ]
     },
     "execution_count": 24,
     "metadata": {},
     "output_type": "execute_result"
    }
   ],
   "source": [
    "set_of_nodes[1][8].osf_dict[4].location"
   ]
  },
  {
   "cell_type": "code",
   "execution_count": 25,
   "metadata": {},
   "outputs": [
    {
     "data": {
      "text/plain": [
       "(2.0, 10.03)"
      ]
     },
     "execution_count": 25,
     "metadata": {},
     "output_type": "execute_result"
    }
   ],
   "source": [
    "set_of_nodes[1][9].location"
   ]
  },
  {
   "cell_type": "code",
   "execution_count": 11,
   "metadata": {},
   "outputs": [],
   "source": [
    "nodes_to_load = copy.deepcopy(set_of_nodes[1])"
   ]
  },
  {
   "cell_type": "code",
   "execution_count": 15,
   "metadata": {},
   "outputs": [
    {
     "data": {
      "text/plain": [
       "<classes_correction.low_level_node_hexagon at 0x106315110>"
      ]
     },
     "execution_count": 15,
     "metadata": {},
     "output_type": "execute_result"
    }
   ],
   "source": [
    "nodes_to_load[5]"
   ]
  },
  {
   "cell_type": "code",
   "execution_count": 17,
   "metadata": {},
   "outputs": [
    {
     "data": {
      "text/plain": [
       "False"
      ]
     },
     "execution_count": 17,
     "metadata": {},
     "output_type": "execute_result"
    }
   ],
   "source": [
    "nodes_to_load[5] == set_of_nodes[1][5]"
   ]
  },
  {
   "cell_type": "code",
   "execution_count": 40,
   "metadata": {},
   "outputs": [
    {
     "data": {
      "text/plain": [
       "1.73"
      ]
     },
     "execution_count": 40,
     "metadata": {},
     "output_type": "execute_result"
    }
   ],
   "source": [
    "import numpy as np\n",
    "Sum = np.array((1,1,1))\n",
    "round(np.sqrt(np.sum(Sum**2)),2)"
   ]
  },
  {
   "cell_type": "code",
   "execution_count": 41,
   "metadata": {},
   "outputs": [
    {
     "data": {
      "text/plain": [
       "[(1, 0),\n",
       " (2, 1),\n",
       " (3, 2),\n",
       " (4, 3),\n",
       " (5, 4),\n",
       " (6, 5),\n",
       " (7, 6),\n",
       " (8, 7),\n",
       " (9, 8),\n",
       " (10, 9),\n",
       " (11, 10),\n",
       " (12, 11),\n",
       " (13, 12),\n",
       " (14, 13)]"
      ]
     },
     "execution_count": 41,
     "metadata": {},
     "output_type": "execute_result"
    }
   ],
   "source": [
    "list(enumerate([i for i in range(14)],start = 1))"
   ]
  },
  {
   "cell_type": "code",
   "execution_count": 4,
   "metadata": {},
   "outputs": [
    {
     "name": "stdout",
     "output_type": "stream",
     "text": [
      "[2.023243291566195, 3.085205013215371, 0.3453624047073709, 6.329536138119519]\n"
     ]
    }
   ],
   "source": [
    "\n",
    "import numpy as np\n",
    "\n",
    "def min_distance_subarrays(arrays, point, d):\n",
    "    \"\"\"\n",
    "    Calculate the minimum distance from a given point (x, y) to each subarray,\n",
    "    then subtract a given distance d from it.\n",
    "    \n",
    "    :param arrays: List of lists containing coordinate tuples (x, y)\n",
    "    :param point: Tuple (x, y) representing the reference point\n",
    "    :param d: Distance to subtract\n",
    "    :return: List of minimum distances (after subtraction) for each subarray\n",
    "    \"\"\"\n",
    "    results = []\n",
    "    px, py = point\n",
    "    \n",
    "    for subarray in arrays:\n",
    "        distances = [np.sqrt((x - px) ** 2 + (y - py) ** 2) for x, y in subarray]\n",
    "        min_dist = min(distances) - d\n",
    "        results.append(min_dist)\n",
    "    \n",
    "    return results\n",
    "\n",
    "# Example usage\n",
    "data = [[(6.5, 5.7), (6.5, 7.43), (6.5, 9.16), (6.5, 10.89)],\n",
    "        [(8.0, 4.83), (8.0, 6.56), (8.0, 8.29), (6.5, 7.43)],\n",
    "        [(2.0, 1.37), (3.5, 2.23), (5.0, 3.1), (6.5, 3.96)],\n",
    "        [(6.5, 10.89), (5.0, 11.76), (3.5, 12.62), (2.0, 11.76)]]\n",
    "\n",
    "reference_point = (4.0, 4.0)\n",
    "distance_to_subtract = np.sqrt(3)\n",
    "\n",
    "result = min_distance_subarrays(data, reference_point, distance_to_subtract)\n",
    "print(result)"
   ]
  },
  {
   "cell_type": "code",
   "execution_count": 5,
   "metadata": {},
   "outputs": [
    {
     "data": {
      "text/plain": [
       "1.7299999999999995"
      ]
     },
     "execution_count": 5,
     "metadata": {},
     "output_type": "execute_result"
    }
   ],
   "source": [
    "7.43 - 5.7"
   ]
  },
  {
   "cell_type": "code",
   "execution_count": 6,
   "metadata": {},
   "outputs": [
    {
     "data": {
      "text/plain": [
       "1.7320508075688772"
      ]
     },
     "execution_count": 6,
     "metadata": {},
     "output_type": "execute_result"
    }
   ],
   "source": [
    "np.sqrt(3)"
   ]
  },
  {
   "cell_type": "code",
   "execution_count": 7,
   "metadata": {},
   "outputs": [
    {
     "data": {
      "text/plain": [
       "(0.5, 9.16)"
      ]
     },
     "execution_count": 7,
     "metadata": {},
     "output_type": "execute_result"
    }
   ],
   "source": [
    "locations = [(0.5, 0.5),\n",
    " (0.5, 2.23),\n",
    " (0.5, 3.96),\n",
    " (0.5, 5.7),\n",
    " (0.5, 7.43),\n",
    " (0.5, 9.16),\n",
    " (0.5, 10.89),\n",
    " (0.5, 12.62),\n",
    " (2.0, 11.76),\n",
    " (2.0, 10.03),\n",
    " (2.0, 8.29),\n",
    " (2.0, 6.56),\n",
    " (2.0, 4.83),\n",
    " (2.0, 3.1),\n",
    " (2.0, 1.37),\n",
    " (3.5, 0.5),\n",
    " (3.5, 2.23),\n",
    " (3.5, 3.96),\n",
    " (3.5, 5.7),\n",
    " (3.5, 7.43),\n",
    " (3.5, 9.16),\n",
    " (3.5, 10.89),\n",
    " (3.5, 12.62),\n",
    " (5.0, 11.76),\n",
    " (5.0, 10.03),\n",
    " (5.0, 8.29),\n",
    " (5.0, 6.56),\n",
    " (5.0, 4.83),\n",
    " (5.0, 3.1),\n",
    " (5.0, 1.37),\n",
    " (6.5, 0.5),\n",
    " (6.5, 2.23),\n",
    " (6.5, 3.96),\n",
    " (6.5, 5.7),\n",
    " (6.5, 7.43),\n",
    " (6.5, 9.16),\n",
    " (6.5, 10.89),\n",
    " (6.5, 12.62),\n",
    " (8.0, 11.76),\n",
    " (8.0, 10.03),\n",
    " (8.0, 8.29),\n",
    " (8.0, 6.56),\n",
    " (8.0, 4.83),\n",
    " (8.0, 3.1),\n",
    " (8.0, 1.37),\n",
    " (9.5, 0.5),\n",
    " (9.5, 2.23),\n",
    " (9.5, 3.96),\n",
    " (9.5, 5.7),\n",
    " (9.5, 7.43),\n",
    " (9.5, 9.16),\n",
    " (9.5, 10.89),\n",
    " (9.5, 12.62),\n",
    " (11.0, 11.76),\n",
    " (11.0, 10.03),\n",
    " (11.0, 8.29),\n",
    " (11.0, 6.56),\n",
    " (11.0, 4.83),\n",
    " (11.0, 3.1),\n",
    " (11.0, 1.37),\n",
    " (12.5, 0.5),\n",
    " (12.5, 2.23),\n",
    " (12.5, 3.96),\n",
    " (12.5, 5.7),\n",
    " (12.5, 7.43),\n",
    " (12.5, 9.16),\n",
    " (12.5, 10.89),\n",
    " (12.5, 12.62)]\n",
    "\n",
    "locations[5]"
   ]
  }
 ],
 "metadata": {
  "kernelspec": {
   "display_name": "Python 3",
   "language": "python",
   "name": "python3"
  },
  "language_info": {
   "codemirror_mode": {
    "name": "ipython",
    "version": 3
   },
   "file_extension": ".py",
   "mimetype": "text/x-python",
   "name": "python",
   "nbconvert_exporter": "python",
   "pygments_lexer": "ipython3",
   "version": "3.11.3"
  }
 },
 "nbformat": 4,
 "nbformat_minor": 2
}
